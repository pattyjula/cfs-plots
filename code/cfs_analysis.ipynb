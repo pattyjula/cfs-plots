{
 "cells": [
  {
   "cell_type": "markdown",
   "metadata": {},
   "source": [
    "## Makes plots and CSV files based on the [*LA City Open Data*](https://data.lacity.org/) Calls for Service data\n",
    "\n",
    "\n",
    "#### THIS SOFTWARE IS PROVIDED \"AS IS\", WITHOUT WARRANTY OF ANY KIND, EXPRESS OR IMPLIED, INCLUDING BUT NOT LIMITED TO THE WARRANTIES OF MERCHANTABILITY, FITNESS FOR A PARTICULAR PURPOSE AND NONINFRINGEMENT. IN NO EVENT SHALL THE AUTHORS OR COPYRIGHT HOLDERS BE LIABLE FOR ANY CLAIM, DAMAGES OR OTHER LIABILITY, WHETHER IN AN ACTION OF CONTRACT, TORT OR OTHERWISE, ARISING FROM, OUT OF OR IN CONNECTION WITH THE SOFTWARE OR THE USE OR OTHER DEALINGS IN THE SOFTWARE.\n"
   ]
  },
  {
   "cell_type": "code",
   "execution_count": 42,
   "metadata": {},
   "outputs": [],
   "source": [
    "import pandas as pd\n",
    "import seaborn as sns\n",
    "import matplotlib.pyplot as plt\n",
    "from matplotlib.pyplot import figure\n",
    "%matplotlib inline"
   ]
  },
  {
   "cell_type": "code",
   "execution_count": 43,
   "metadata": {},
   "outputs": [],
   "source": [
    "df19 = pd.read_csv('../data/cfs_2019.csv')\n",
    "df20 = pd.read_csv('../data/cfs_2020.csv')"
   ]
  },
  {
   "cell_type": "code",
   "execution_count": 44,
   "metadata": {},
   "outputs": [
    {
     "data": {
      "text/html": [
       "<div>\n",
       "<style scoped>\n",
       "    .dataframe tbody tr th:only-of-type {\n",
       "        vertical-align: middle;\n",
       "    }\n",
       "\n",
       "    .dataframe tbody tr th {\n",
       "        vertical-align: top;\n",
       "    }\n",
       "\n",
       "    .dataframe thead th {\n",
       "        text-align: right;\n",
       "    }\n",
       "</style>\n",
       "<table border=\"1\" class=\"dataframe\">\n",
       "  <thead>\n",
       "    <tr style=\"text-align: right;\">\n",
       "      <th></th>\n",
       "      <th>Incident_Number</th>\n",
       "      <th>Area_Occ</th>\n",
       "      <th>Rpt_Dist</th>\n",
       "      <th>Dispatch_Date</th>\n",
       "      <th>Dispatch_Time</th>\n",
       "      <th>Call_Type_Code</th>\n",
       "      <th>Call_Type_Text</th>\n",
       "    </tr>\n",
       "  </thead>\n",
       "  <tbody>\n",
       "    <tr>\n",
       "      <th>0</th>\n",
       "      <td>LPD190704000047</td>\n",
       "      <td>N Hollywood</td>\n",
       "      <td>1532.0</td>\n",
       "      <td>07/04/2019 12:00:00 AM</td>\n",
       "      <td>00:14:49</td>\n",
       "      <td>507F</td>\n",
       "      <td>FIREWORKS</td>\n",
       "    </tr>\n",
       "    <tr>\n",
       "      <th>1</th>\n",
       "      <td>LPD190529006334</td>\n",
       "      <td>Outside</td>\n",
       "      <td>NaN</td>\n",
       "      <td>05/29/2019 12:00:00 AM</td>\n",
       "      <td>21:28:53</td>\n",
       "      <td>006</td>\n",
       "      <td>CODE 6</td>\n",
       "    </tr>\n",
       "    <tr>\n",
       "      <th>2</th>\n",
       "      <td>LPD190218001024</td>\n",
       "      <td>Southwest</td>\n",
       "      <td>379.0</td>\n",
       "      <td>02/18/2019 12:00:00 AM</td>\n",
       "      <td>07:46:54</td>\n",
       "      <td>507C</td>\n",
       "      <td>CONSTRUCTION</td>\n",
       "    </tr>\n",
       "    <tr>\n",
       "      <th>3</th>\n",
       "      <td>PD19120600001346</td>\n",
       "      <td>Northeast</td>\n",
       "      <td>1109.0</td>\n",
       "      <td>12/06/2019 12:00:00 AM</td>\n",
       "      <td>08:32:27</td>\n",
       "      <td>006</td>\n",
       "      <td>CODE 6</td>\n",
       "    </tr>\n",
       "    <tr>\n",
       "      <th>4</th>\n",
       "      <td>LPD190216004881</td>\n",
       "      <td>Van Nuys</td>\n",
       "      <td>933.0</td>\n",
       "      <td>02/16/2019 12:00:00 AM</td>\n",
       "      <td>21:14:49</td>\n",
       "      <td>507P</td>\n",
       "      <td>PARTY</td>\n",
       "    </tr>\n",
       "  </tbody>\n",
       "</table>\n",
       "</div>"
      ],
      "text/plain": [
       "    Incident_Number     Area_Occ  Rpt_Dist           Dispatch_Date  \\\n",
       "0   LPD190704000047  N Hollywood    1532.0  07/04/2019 12:00:00 AM   \n",
       "1   LPD190529006334      Outside       NaN  05/29/2019 12:00:00 AM   \n",
       "2   LPD190218001024    Southwest     379.0  02/18/2019 12:00:00 AM   \n",
       "3  PD19120600001346    Northeast    1109.0  12/06/2019 12:00:00 AM   \n",
       "4   LPD190216004881     Van Nuys     933.0  02/16/2019 12:00:00 AM   \n",
       "\n",
       "  Dispatch_Time Call_Type_Code Call_Type_Text  \n",
       "0      00:14:49           507F      FIREWORKS  \n",
       "1      21:28:53            006         CODE 6  \n",
       "2      07:46:54           507C   CONSTRUCTION  \n",
       "3      08:32:27            006         CODE 6  \n",
       "4      21:14:49           507P          PARTY  "
      ]
     },
     "execution_count": 44,
     "metadata": {},
     "output_type": "execute_result"
    }
   ],
   "source": [
    "df19.head()"
   ]
  },
  {
   "cell_type": "markdown",
   "metadata": {},
   "source": [
    "## Let's set the Dispatch_Date column to date format"
   ]
  },
  {
   "cell_type": "code",
   "execution_count": 45,
   "metadata": {},
   "outputs": [],
   "source": [
    "df19.Dispatch_Date = pd.to_datetime(df19.Dispatch_Date, infer_datetime_format=True)\n",
    "df20.Dispatch_Date = pd.to_datetime(df20.Dispatch_Date, infer_datetime_format=True)"
   ]
  },
  {
   "cell_type": "markdown",
   "metadata": {},
   "source": [
    "\n",
    "## Check the dispatch date of August, in both 2019 and 2020"
   ]
  },
  {
   "cell_type": "code",
   "execution_count": 46,
   "metadata": {},
   "outputs": [
    {
     "data": {
      "text/html": [
       "<div>\n",
       "<style scoped>\n",
       "    .dataframe tbody tr th:only-of-type {\n",
       "        vertical-align: middle;\n",
       "    }\n",
       "\n",
       "    .dataframe tbody tr th {\n",
       "        vertical-align: top;\n",
       "    }\n",
       "\n",
       "    .dataframe thead th {\n",
       "        text-align: right;\n",
       "    }\n",
       "</style>\n",
       "<table border=\"1\" class=\"dataframe\">\n",
       "  <thead>\n",
       "    <tr style=\"text-align: right;\">\n",
       "      <th></th>\n",
       "      <th>Incident_Number</th>\n",
       "      <th>Area_Occ</th>\n",
       "      <th>Rpt_Dist</th>\n",
       "      <th>Dispatch_Date</th>\n",
       "      <th>Dispatch_Time</th>\n",
       "      <th>Call_Type_Code</th>\n",
       "      <th>Call_Type_Text</th>\n",
       "    </tr>\n",
       "  </thead>\n",
       "  <tbody>\n",
       "    <tr>\n",
       "      <th>1447523</th>\n",
       "      <td>PD20102600000574</td>\n",
       "      <td>Newton</td>\n",
       "      <td>1309.0</td>\n",
       "      <td>2020-10-26</td>\n",
       "      <td>04:29:30</td>\n",
       "      <td>921SN</td>\n",
       "      <td>SUSP NOW</td>\n",
       "    </tr>\n",
       "    <tr>\n",
       "      <th>1447524</th>\n",
       "      <td>PD20102700003788</td>\n",
       "      <td>Outside</td>\n",
       "      <td>NaN</td>\n",
       "      <td>2020-10-27</td>\n",
       "      <td>19:09:22</td>\n",
       "      <td>006</td>\n",
       "      <td>CODE 6</td>\n",
       "    </tr>\n",
       "    <tr>\n",
       "      <th>1447525</th>\n",
       "      <td>PD20103000000510</td>\n",
       "      <td>Newton</td>\n",
       "      <td>1317.0</td>\n",
       "      <td>2020-10-30</td>\n",
       "      <td>04:25:39</td>\n",
       "      <td>415M</td>\n",
       "      <td>MAN</td>\n",
       "    </tr>\n",
       "    <tr>\n",
       "      <th>1447526</th>\n",
       "      <td>PD20102500002716</td>\n",
       "      <td>Topanga</td>\n",
       "      <td>2144.0</td>\n",
       "      <td>2020-10-25</td>\n",
       "      <td>16:27:34</td>\n",
       "      <td>207PJ</td>\n",
       "      <td>POSS J/O</td>\n",
       "    </tr>\n",
       "    <tr>\n",
       "      <th>1447527</th>\n",
       "      <td>PD20103000002284</td>\n",
       "      <td>Outside</td>\n",
       "      <td>NaN</td>\n",
       "      <td>2020-10-30</td>\n",
       "      <td>13:38:09</td>\n",
       "      <td>006</td>\n",
       "      <td>CODE 6</td>\n",
       "    </tr>\n",
       "  </tbody>\n",
       "</table>\n",
       "</div>"
      ],
      "text/plain": [
       "          Incident_Number Area_Occ  Rpt_Dist Dispatch_Date Dispatch_Time  \\\n",
       "1447523  PD20102600000574   Newton    1309.0    2020-10-26      04:29:30   \n",
       "1447524  PD20102700003788  Outside       NaN    2020-10-27      19:09:22   \n",
       "1447525  PD20103000000510   Newton    1317.0    2020-10-30      04:25:39   \n",
       "1447526  PD20102500002716  Topanga    2144.0    2020-10-25      16:27:34   \n",
       "1447527  PD20103000002284  Outside       NaN    2020-10-30      13:38:09   \n",
       "\n",
       "        Call_Type_Code Call_Type_Text  \n",
       "1447523          921SN       SUSP NOW  \n",
       "1447524            006         CODE 6  \n",
       "1447525           415M            MAN  \n",
       "1447526          207PJ       POSS J/O  \n",
       "1447527            006         CODE 6  "
      ]
     },
     "execution_count": 46,
     "metadata": {},
     "output_type": "execute_result"
    }
   ],
   "source": [
    "df19_ = df19[(df19.Dispatch_Date >= '2019-01-01') & (df19.Dispatch_Date < '2020-01-01')]\n",
    "df20_ = df20[(df20.Dispatch_Date >= '2020-01-01') & (df20.Dispatch_Date <= '2020-10-31')]\n",
    "# Preview the 2020 data, top five rows by default\n",
    "df20_.tail()"
   ]
  },
  {
   "cell_type": "markdown",
   "metadata": {},
   "source": [
    "## Some data wrangling\n",
    "## Then count by day"
   ]
  },
  {
   "cell_type": "code",
   "execution_count": 47,
   "metadata": {},
   "outputs": [
    {
     "data": {
      "text/html": [
       "<div>\n",
       "<style scoped>\n",
       "    .dataframe tbody tr th:only-of-type {\n",
       "        vertical-align: middle;\n",
       "    }\n",
       "\n",
       "    .dataframe tbody tr th {\n",
       "        vertical-align: top;\n",
       "    }\n",
       "\n",
       "    .dataframe thead th {\n",
       "        text-align: right;\n",
       "    }\n",
       "</style>\n",
       "<table border=\"1\" class=\"dataframe\">\n",
       "  <thead>\n",
       "    <tr style=\"text-align: right;\">\n",
       "      <th></th>\n",
       "      <th>Incident_Number</th>\n",
       "      <th>Area_Occ</th>\n",
       "      <th>Rpt_Dist</th>\n",
       "      <th>Dispatch_Date</th>\n",
       "      <th>Dispatch_Time</th>\n",
       "      <th>Call_Type_Code</th>\n",
       "      <th>Call_Type_Text</th>\n",
       "      <th>month</th>\n",
       "      <th>count</th>\n",
       "    </tr>\n",
       "  </thead>\n",
       "  <tbody>\n",
       "    <tr>\n",
       "      <th>0</th>\n",
       "      <td>LPD190704000047</td>\n",
       "      <td>N Hollywood</td>\n",
       "      <td>1532.0</td>\n",
       "      <td>2019-07-04</td>\n",
       "      <td>00:14:49</td>\n",
       "      <td>507F</td>\n",
       "      <td>FIREWORKS</td>\n",
       "      <td>Jul</td>\n",
       "      <td>6907</td>\n",
       "    </tr>\n",
       "    <tr>\n",
       "      <th>1</th>\n",
       "      <td>LPD190529006334</td>\n",
       "      <td>Outside</td>\n",
       "      <td>NaN</td>\n",
       "      <td>2019-05-29</td>\n",
       "      <td>21:28:53</td>\n",
       "      <td>006</td>\n",
       "      <td>CODE 6</td>\n",
       "      <td>May</td>\n",
       "      <td>5981</td>\n",
       "    </tr>\n",
       "    <tr>\n",
       "      <th>2</th>\n",
       "      <td>LPD190218001024</td>\n",
       "      <td>Southwest</td>\n",
       "      <td>379.0</td>\n",
       "      <td>2019-02-18</td>\n",
       "      <td>07:46:54</td>\n",
       "      <td>507C</td>\n",
       "      <td>CONSTRUCTION</td>\n",
       "      <td>Feb</td>\n",
       "      <td>4595</td>\n",
       "    </tr>\n",
       "    <tr>\n",
       "      <th>3</th>\n",
       "      <td>PD19120600001346</td>\n",
       "      <td>Northeast</td>\n",
       "      <td>1109.0</td>\n",
       "      <td>2019-12-06</td>\n",
       "      <td>08:32:27</td>\n",
       "      <td>006</td>\n",
       "      <td>CODE 6</td>\n",
       "      <td>Dec</td>\n",
       "      <td>4623</td>\n",
       "    </tr>\n",
       "    <tr>\n",
       "      <th>4</th>\n",
       "      <td>LPD190216004881</td>\n",
       "      <td>Van Nuys</td>\n",
       "      <td>933.0</td>\n",
       "      <td>2019-02-16</td>\n",
       "      <td>21:14:49</td>\n",
       "      <td>507P</td>\n",
       "      <td>PARTY</td>\n",
       "      <td>Feb</td>\n",
       "      <td>4763</td>\n",
       "    </tr>\n",
       "  </tbody>\n",
       "</table>\n",
       "</div>"
      ],
      "text/plain": [
       "    Incident_Number     Area_Occ  Rpt_Dist Dispatch_Date Dispatch_Time  \\\n",
       "0   LPD190704000047  N Hollywood    1532.0    2019-07-04      00:14:49   \n",
       "1   LPD190529006334      Outside       NaN    2019-05-29      21:28:53   \n",
       "2   LPD190218001024    Southwest     379.0    2019-02-18      07:46:54   \n",
       "3  PD19120600001346    Northeast    1109.0    2019-12-06      08:32:27   \n",
       "4   LPD190216004881     Van Nuys     933.0    2019-02-16      21:14:49   \n",
       "\n",
       "  Call_Type_Code Call_Type_Text month  count  \n",
       "0           507F      FIREWORKS   Jul   6907  \n",
       "1            006         CODE 6   May   5981  \n",
       "2           507C   CONSTRUCTION   Feb   4595  \n",
       "3            006         CODE 6   Dec   4623  \n",
       "4           507P          PARTY   Feb   4763  "
      ]
     },
     "execution_count": 47,
     "metadata": {},
     "output_type": "execute_result"
    }
   ],
   "source": [
    "# First copy slice as a dataframe\n",
    "df20_= df20_.copy()\n",
    "df19_= df19_.copy()\n",
    "# Then do a count\n",
    "df20_['month'] = df20_['Dispatch_Date'].dt.strftime('%b')\n",
    "df19_['month'] = df19_['Dispatch_Date'].dt.strftime('%b')\n",
    "# Let's make sure the months\n",
    "# are in the calendar order\n",
    "import calendar\n",
    "months = [\"Jan\", \"Feb\", \"Mar\", \"Apr\", \"May\", \"Jun\", \n",
    "          \"Jul\", \"Aug\", \"Sep\", \"Oct\", \"Nov\", \"Dec\"]\n",
    "\n",
    "df20_['count']=df20_.groupby(by='Dispatch_Date')['Dispatch_Date'].transform('count')\n",
    "df19_['count']=df19_.groupby(by='Dispatch_Date')['Dispatch_Date'].transform('count')\n",
    "df19_['month'] = pd.Categorical(df19_['month'], categories=months, ordered=True)\n",
    "df20_['month'] = pd.Categorical(df20_['month'], categories=months, ordered=True)\n",
    "# Preview 2019\n",
    "df19_.head()"
   ]
  },
  {
   "cell_type": "markdown",
   "metadata": {},
   "source": [
    "## Create a line plot, comparing two years"
   ]
  },
  {
   "cell_type": "code",
   "execution_count": 48,
   "metadata": {},
   "outputs": [
    {
     "data": {
      "text/plain": [
       "<Figure size 432x288 with 0 Axes>"
      ]
     },
     "metadata": {},
     "output_type": "display_data"
    },
    {
     "data": {
      "image/png": "[encoded data removed]",
      "text/plain": [
       "<Figure size 648x504 with 1 Axes>"
      ]
     },
     "metadata": {},
     "output_type": "display_data"
    }
   ],
   "source": [
    "# Some boilerplate to initialize things\n",
    "sns.set()\n",
    "plt.figure()\n",
    "\n",
    "figure(num=None, figsize=(9,7))\n",
    "\n",
    "\n",
    "#Define plots\n",
    "d2019 = sns.lineplot(data=df19_, x=\"month\", y=\"count\", label = \"2019\",).set_title('Calls for Service by Month')\n",
    "d2020  = sns.lineplot(data=df20_, x=\"month\", y=\"count\", label = \"2020\",)\n",
    "\n",
    "# add commas to y axis\n",
    "plt.gca().yaxis.set_major_formatter(plt.matplotlib.ticker.StrMethodFormatter('{x:,.0f}'))\n",
    "\n",
    "plt.show()"
   ]
  },
  {
   "cell_type": "markdown",
   "metadata": {},
   "source": [
    "## Further work could involve comparing by crime types or area"
   ]
  },
  {
   "cell_type": "code",
   "execution_count": null,
   "metadata": {},
   "outputs": [],
   "source": []
  },
  {
   "cell_type": "code",
   "execution_count": null,
   "metadata": {},
   "outputs": [],
   "source": []
  }
 ],
 "metadata": {
  "kernelspec": {
   "display_name": "Python 3",
   "language": "python",
   "name": "python3"
  },
  "language_info": {
   "codemirror_mode": {
    "name": "ipython",
    "version": 3
   },
   "file_extension": ".py",
   "mimetype": "text/x-python",
   "name": "python",
   "nbconvert_exporter": "python",
   "pygments_lexer": "ipython3",
   "version": "3.8.3"
  }
 },
 "nbformat": 4,
 "nbformat_minor": 4
}
