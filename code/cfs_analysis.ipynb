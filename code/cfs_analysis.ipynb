{
 "cells": [
  {
   "cell_type": "code",
   "execution_count": 3,
   "metadata": {},
   "outputs": [],
   "source": [
    "import pandas as pd"
   ]
  },
  {
   "cell_type": "code",
   "execution_count": 4,
   "metadata": {},
   "outputs": [],
   "source": [
    "df19 = pd.read_csv('../data/cfs_2019.csv')"
   ]
  },
  {
   "cell_type": "code",
   "execution_count": 5,
   "metadata": {},
   "outputs": [
    {
     "data": {
      "text/html": [
       "<div>\n",
       "<style scoped>\n",
       "    .dataframe tbody tr th:only-of-type {\n",
       "        vertical-align: middle;\n",
       "    }\n",
       "\n",
       "    .dataframe tbody tr th {\n",
       "        vertical-align: top;\n",
       "    }\n",
       "\n",
       "    .dataframe thead th {\n",
       "        text-align: right;\n",
       "    }\n",
       "</style>\n",
       "<table border=\"1\" class=\"dataframe\">\n",
       "  <thead>\n",
       "    <tr style=\"text-align: right;\">\n",
       "      <th></th>\n",
       "      <th>Incident_Number</th>\n",
       "      <th>Area_Occ</th>\n",
       "      <th>Rpt_Dist</th>\n",
       "      <th>Dispatch_Date</th>\n",
       "      <th>Dispatch_Time</th>\n",
       "      <th>Call_Type_Code</th>\n",
       "      <th>Call_Type_Text</th>\n",
       "    </tr>\n",
       "  </thead>\n",
       "  <tbody>\n",
       "    <tr>\n",
       "      <th>0</th>\n",
       "      <td>LPD190704000047</td>\n",
       "      <td>N Hollywood</td>\n",
       "      <td>1532.0</td>\n",
       "      <td>07/04/2019 12:00:00 AM</td>\n",
       "      <td>00:14:49</td>\n",
       "      <td>507F</td>\n",
       "      <td>FIREWORKS</td>\n",
       "    </tr>\n",
       "    <tr>\n",
       "      <th>1</th>\n",
       "      <td>LPD190529006334</td>\n",
       "      <td>Outside</td>\n",
       "      <td>NaN</td>\n",
       "      <td>05/29/2019 12:00:00 AM</td>\n",
       "      <td>21:28:53</td>\n",
       "      <td>006</td>\n",
       "      <td>CODE 6</td>\n",
       "    </tr>\n",
       "    <tr>\n",
       "      <th>2</th>\n",
       "      <td>LPD190218001024</td>\n",
       "      <td>Southwest</td>\n",
       "      <td>379.0</td>\n",
       "      <td>02/18/2019 12:00:00 AM</td>\n",
       "      <td>07:46:54</td>\n",
       "      <td>507C</td>\n",
       "      <td>CONSTRUCTION</td>\n",
       "    </tr>\n",
       "    <tr>\n",
       "      <th>3</th>\n",
       "      <td>PD19120600001346</td>\n",
       "      <td>Northeast</td>\n",
       "      <td>1109.0</td>\n",
       "      <td>12/06/2019 12:00:00 AM</td>\n",
       "      <td>08:32:27</td>\n",
       "      <td>006</td>\n",
       "      <td>CODE 6</td>\n",
       "    </tr>\n",
       "    <tr>\n",
       "      <th>4</th>\n",
       "      <td>LPD190216004881</td>\n",
       "      <td>Van Nuys</td>\n",
       "      <td>933.0</td>\n",
       "      <td>02/16/2019 12:00:00 AM</td>\n",
       "      <td>21:14:49</td>\n",
       "      <td>507P</td>\n",
       "      <td>PARTY</td>\n",
       "    </tr>\n",
       "  </tbody>\n",
       "</table>\n",
       "</div>"
      ],
      "text/plain": [
       "    Incident_Number     Area_Occ  Rpt_Dist           Dispatch_Date  \\\n",
       "0   LPD190704000047  N Hollywood    1532.0  07/04/2019 12:00:00 AM   \n",
       "1   LPD190529006334      Outside       NaN  05/29/2019 12:00:00 AM   \n",
       "2   LPD190218001024    Southwest     379.0  02/18/2019 12:00:00 AM   \n",
       "3  PD19120600001346    Northeast    1109.0  12/06/2019 12:00:00 AM   \n",
       "4   LPD190216004881     Van Nuys     933.0  02/16/2019 12:00:00 AM   \n",
       "\n",
       "  Dispatch_Time Call_Type_Code Call_Type_Text  \n",
       "0      00:14:49           507F      FIREWORKS  \n",
       "1      21:28:53            006         CODE 6  \n",
       "2      07:46:54           507C   CONSTRUCTION  \n",
       "3      08:32:27            006         CODE 6  \n",
       "4      21:14:49           507P          PARTY  "
      ]
     },
     "execution_count": 5,
     "metadata": {},
     "output_type": "execute_result"
    }
   ],
   "source": [
    "df19.head()"
   ]
  },
  {
   "cell_type": "code",
   "execution_count": null,
   "metadata": {},
   "outputs": [],
   "source": [
    "df19.Dispatch_Date = df19.Dispatch_Date"
   ]
  }
 ],
 "metadata": {
  "kernelspec": {
   "display_name": "Python 3",
   "language": "python",
   "name": "python3"
  },
  "language_info": {
   "codemirror_mode": {
    "name": "ipython",
    "version": 3
   },
   "file_extension": ".py",
   "mimetype": "text/x-python",
   "name": "python",
   "nbconvert_exporter": "python",
   "pygments_lexer": "ipython3",
   "version": "3.8.3"
  }
 },
 "nbformat": 4,
 "nbformat_minor": 4
}
